{
 "cells": [
  {
   "cell_type": "code",
   "execution_count": 1,
   "id": "d59b041c",
   "metadata": {},
   "outputs": [],
   "source": [
    "import pandas as pd"
   ]
  },
  {
   "cell_type": "code",
   "execution_count": 2,
   "id": "c18e2e71",
   "metadata": {},
   "outputs": [],
   "source": [
    "df=pd.read_csv('Desktop\\KAR.csv')"
   ]
  },
  {
   "cell_type": "code",
   "execution_count": 3,
   "id": "8200cf04",
   "metadata": {},
   "outputs": [
    {
     "data": {
      "text/plain": [
       "370"
      ]
     },
     "execution_count": 3,
     "metadata": {},
     "output_type": "execute_result"
    }
   ],
   "source": [
    "len(df. index)"
   ]
  },
  {
   "cell_type": "code",
   "execution_count": 4,
   "id": "b4f303ef",
   "metadata": {},
   "outputs": [],
   "source": [
    "# highest Vote Candidates\n",
    "highest_vote_candidates = df.groupby('Year')['Total Vote'].idxmax().apply(lambda x: df.loc[x, 'Canditate'])\n"
   ]
  },
  {
   "cell_type": "code",
   "execution_count": 5,
   "id": "c3a50fba",
   "metadata": {},
   "outputs": [
    {
     "name": "stdout",
     "output_type": "stream",
     "text": [
      "Year\n",
      "2004     Prakash M P\n",
      "2008    M Krishnappa\n",
      "2013    M Krishnappa\n",
      "2018    M Krishnappa\n",
      "Name: Total Vote, dtype: object\n"
     ]
    }
   ],
   "source": [
    "print(highest_vote_candidates )"
   ]
  },
  {
   "cell_type": "code",
   "execution_count": 6,
   "id": "b2d24b15",
   "metadata": {},
   "outputs": [],
   "source": [
    "# group the data by year and find the candidate with the highest votes\n",
    "top_candidates = df.groupby(['Year']).apply(lambda x: x.loc[x['Total Vote'].idxmax()])\n",
    "\n",
    "# select the desired columns\n",
    "top_candidates = top_candidates[['Year', 'Constituency', 'Party FullName', 'Canditate']]"
   ]
  },
  {
   "cell_type": "code",
   "execution_count": 7,
   "id": "3066215a",
   "metadata": {},
   "outputs": [
    {
     "name": "stdout",
     "output_type": "stream",
     "text": [
      "      Year Constituency          Party FullName     Canditate\n",
      "Year                                                         \n",
      "2004  2004    Hadagalli    Janata Dal (secular)   Prakash M P\n",
      "2008  2008    Bangalore  Bharatiya Janata Party  M Krishnappa\n",
      "2013  2013    Bangalore  Bharatiya Janata Party  M Krishnappa\n",
      "2018  2018    Bangalore  Bharatiya Janata Party  M Krishnappa\n"
     ]
    }
   ],
   "source": [
    "print(top_candidates)"
   ]
  },
  {
   "cell_type": "code",
   "execution_count": 8,
   "id": "24e15d9c",
   "metadata": {},
   "outputs": [
    {
     "name": "stdout",
     "output_type": "stream",
     "text": [
      "                         Canditate  Year        Constituency      District  \\\n",
      "0                      Halappa V B  2004           Hadagalli   vijayanagar   \n",
      "1                Akaashi Basavaraj  2004           Gurmitkal        Yadgir   \n",
      "2                   Narayana Das D  2004       Harapanahalli   vijayanagar   \n",
      "3                     Siraj Sheikh  2004             kudligi   vijayanagar   \n",
      "4      Shivashekarappagouda Sirwal  2004            shahapur        yadgir   \n",
      "5             Raja Venkatappa Naik  2004            shorapur        yadgir   \n",
      "6                Dr A B Malakraddy  2004              yadgir        yadgir   \n",
      "7             P T Parameswara Naik  2008           Hadagalli   vijayanagar   \n",
      "8                      Sadananda M  2008           Bangalore     Bangalore   \n",
      "9                L B P Bheema Naik  2008  Hagaribommanahalli   vijayanagar   \n",
      "10                     M P Prakash  2008       Harapanahalli   vijayanagar   \n",
      "11                     S Venkatesh  2008             kudligi   vijayanagar   \n",
      "12    Shivshekharappagouda Shirwal  2008            shahapur        yadgir   \n",
      "13            Raja Venkatappa Naik  2008            shorapur        yadgir   \n",
      "14                    H R Gaviappa  2008        vijayanagara  vijayanagara   \n",
      "15    Dr Veerabaswanthreddy Mudnal  2008              yadgir        yadgir   \n",
      "16                   B Chandranaik  2013           Hadagalli   vijayanagar   \n",
      "17              R Prabhakara Reddy  2013           Bangalore     Bangalore   \n",
      "18          Nagana Gouda Kandakura  2013           Gurmitkal        Yadgir   \n",
      "19                 K Nemaraja Naik  2013  Hagaribommanahalli   vijayanagar   \n",
      "20               G Karunakarareddy  2013       Harapanahalli   vijayanagar   \n",
      "21                    S Venkatesha  2013             kudligi   vijayanagar   \n",
      "22  Sharanabasappagouda Darshanpur  2013            shahapur        yadgir   \n",
      "23      Narasimhanayak (rajugouda)  2013            shorapur        yadgir   \n",
      "24                   H Abdul Wahab  2013        vijayanagara  vijayanagara   \n",
      "25              Veer Baswant Reddy  2013              yadgir        yadgir   \n",
      "26                    Odo Gangappa  2018           Hadagalli   vijayanagar   \n",
      "27                      R K Ramesh  2018           Bangalore     Bangalore   \n",
      "28             Baburao Chinchansur  2018           Gurmitkal        Yadgir   \n",
      "29                 K Nemiraja Naik  2018  Hagaribommanahalli   vijayanagar   \n",
      "30                    M P Ravindra  2018       Harapanahalli   vijayanagar   \n",
      "31                    N T Bommanna  2018             kudligi   vijayanagar   \n",
      "32               Guru Patil Sirwal  2018            shahapur        yadgir   \n",
      "33            Raja Venkatappa Naik  2018            shorapur        yadgir   \n",
      "34                   H R Gaviyappa  2018        vijayanagara  vijayanagara   \n",
      "35             Dr A B Maalakaraddy  2018              yadgir        yadgir   \n",
      "\n",
      "    Total Vote  \n",
      "0        28077  \n",
      "1        18459  \n",
      "2        30164  \n",
      "3        41796  \n",
      "4        38080  \n",
      "5        40733  \n",
      "6        25788  \n",
      "7        37474  \n",
      "8        36979  \n",
      "9        23865  \n",
      "10       44017  \n",
      "11       45686  \n",
      "12       36207  \n",
      "13       55961  \n",
      "14       25921  \n",
      "15       31812  \n",
      "16       18526  \n",
      "17       72045  \n",
      "18       34401  \n",
      "19       51847  \n",
      "20       48548  \n",
      "21       46674  \n",
      "22       49128  \n",
      "23       60958  \n",
      "24       39358  \n",
      "25       31330  \n",
      "26       44919  \n",
      "27      122068  \n",
      "28       55147  \n",
      "29       71105  \n",
      "30       57956  \n",
      "31       39272  \n",
      "32       47668  \n",
      "33       81858  \n",
      "34       74986  \n",
      "35       49346  \n"
     ]
    }
   ],
   "source": [
    "#runnerup candidate:\n",
    "runner_ups = df.groupby(['Year', 'Constituency']).apply(lambda x: x.nlargest(2, 'Total Vote')).reset_index(drop=True)\n",
    "runner_ups = runner_ups.groupby(['Year', 'Constituency']).last().reset_index()[[ 'Canditate','Year', 'Constituency', 'District','Total Vote']]\n",
    "print(runner_ups)"
   ]
  },
  {
   "cell_type": "code",
   "execution_count": 9,
   "id": "1c779ebd",
   "metadata": {},
   "outputs": [
    {
     "data": {
      "text/plain": [
       "S N                 int64\n",
       "Canditate          object\n",
       "Gender             object\n",
       "Age                object\n",
       "Caste              object\n",
       "Party Name         object\n",
       "Party FullName     object\n",
       "Symbol             object\n",
       "Total Vote          int64\n",
       "Percentage         object\n",
       "Year                int64\n",
       "Constituency       object\n",
       "District           object\n",
       "Unnamed: 13       float64\n",
       "dtype: object"
      ]
     },
     "execution_count": 9,
     "metadata": {},
     "output_type": "execute_result"
    }
   ],
   "source": [
    "df.dtypes"
   ]
  },
  {
   "cell_type": "code",
   "execution_count": null,
   "id": "db0f5d3f",
   "metadata": {},
   "outputs": [],
   "source": []
  }
 ],
 "metadata": {
  "kernelspec": {
   "display_name": "Python 3 (ipykernel)",
   "language": "python",
   "name": "python3"
  },
  "language_info": {
   "codemirror_mode": {
    "name": "ipython",
    "version": 3
   },
   "file_extension": ".py",
   "mimetype": "text/x-python",
   "name": "python",
   "nbconvert_exporter": "python",
   "pygments_lexer": "ipython3",
   "version": "3.9.12"
  }
 },
 "nbformat": 4,
 "nbformat_minor": 5
}
